{
 "cells": [
  {
   "cell_type": "code",
   "execution_count": 13,
   "metadata": {},
   "outputs": [],
   "source": [
    "from datetime import datetime\n",
    "import numpy as np\n",
    "import pandas as pd\n",
    "import pandasql as psql\n",
    "from sklearn.linear_model import LinearRegression"
   ]
  },
  {
   "cell_type": "markdown",
   "metadata": {},
   "source": [
    "### Expected goals vs goals analysis - year to year variation"
   ]
  },
  {
   "cell_type": "markdown",
   "metadata": {},
   "source": [
    "#### data taken from https://understat.com/"
   ]
  },
  {
   "cell_type": "code",
   "execution_count": 2,
   "metadata": {},
   "outputs": [
    {
     "data": {
      "text/html": [
       "<div>\n",
       "<style scoped>\n",
       "    .dataframe tbody tr th:only-of-type {\n",
       "        vertical-align: middle;\n",
       "    }\n",
       "\n",
       "    .dataframe tbody tr th {\n",
       "        vertical-align: top;\n",
       "    }\n",
       "\n",
       "    .dataframe thead th {\n",
       "        text-align: right;\n",
       "    }\n",
       "</style>\n",
       "<table border=\"1\" class=\"dataframe\">\n",
       "  <thead>\n",
       "    <tr style=\"text-align: right;\">\n",
       "      <th></th>\n",
       "      <th>Season</th>\n",
       "      <th>№</th>\n",
       "      <th>Team</th>\n",
       "      <th>M</th>\n",
       "      <th>G</th>\n",
       "      <th>GA</th>\n",
       "      <th>XG</th>\n",
       "      <th>XGA</th>\n",
       "    </tr>\n",
       "  </thead>\n",
       "  <tbody>\n",
       "    <tr>\n",
       "      <th>0</th>\n",
       "      <td>2020</td>\n",
       "      <td>1</td>\n",
       "      <td>Liverpool</td>\n",
       "      <td>37</td>\n",
       "      <td>82</td>\n",
       "      <td>32</td>\n",
       "      <td>74.63</td>\n",
       "      <td>39.23</td>\n",
       "    </tr>\n",
       "    <tr>\n",
       "      <th>1</th>\n",
       "      <td>2020</td>\n",
       "      <td>2</td>\n",
       "      <td>Manchester City</td>\n",
       "      <td>37</td>\n",
       "      <td>97</td>\n",
       "      <td>35</td>\n",
       "      <td>98.64</td>\n",
       "      <td>36.21</td>\n",
       "    </tr>\n",
       "    <tr>\n",
       "      <th>2</th>\n",
       "      <td>2020</td>\n",
       "      <td>3</td>\n",
       "      <td>Manchester United</td>\n",
       "      <td>37</td>\n",
       "      <td>64</td>\n",
       "      <td>36</td>\n",
       "      <td>64.78</td>\n",
       "      <td>37.30</td>\n",
       "    </tr>\n",
       "    <tr>\n",
       "      <th>3</th>\n",
       "      <td>2020</td>\n",
       "      <td>4</td>\n",
       "      <td>Chelsea</td>\n",
       "      <td>37</td>\n",
       "      <td>67</td>\n",
       "      <td>54</td>\n",
       "      <td>75.07</td>\n",
       "      <td>40.92</td>\n",
       "    </tr>\n",
       "    <tr>\n",
       "      <th>4</th>\n",
       "      <td>2020</td>\n",
       "      <td>5</td>\n",
       "      <td>Leicester</td>\n",
       "      <td>37</td>\n",
       "      <td>67</td>\n",
       "      <td>39</td>\n",
       "      <td>60.26</td>\n",
       "      <td>46.48</td>\n",
       "    </tr>\n",
       "  </tbody>\n",
       "</table>\n",
       "</div>"
      ],
      "text/plain": [
       "   Season  №               Team   M   G  GA     XG    XGA\n",
       "0    2020  1          Liverpool  37  82  32  74.63  39.23\n",
       "1    2020  2    Manchester City  37  97  35  98.64  36.21\n",
       "2    2020  3  Manchester United  37  64  36  64.78  37.30\n",
       "3    2020  4            Chelsea  37  67  54  75.07  40.92\n",
       "4    2020  5          Leicester  37  67  39  60.26  46.48"
      ]
     },
     "execution_count": 2,
     "metadata": {},
     "output_type": "execute_result"
    }
   ],
   "source": [
    "df = pd.read_csv(\"Premier_League_xG.csv\")\n",
    "df.head()"
   ]
  },
  {
   "cell_type": "code",
   "execution_count": 24,
   "metadata": {},
   "outputs": [],
   "source": [
    "# Adjust for number of matches\n",
    "for stat in ['G', 'GA', 'XG', 'XGA']:\n",
    "    df[stat] = df[stat] * 38 / df['M']"
   ]
  },
  {
   "cell_type": "code",
   "execution_count": 25,
   "metadata": {},
   "outputs": [
    {
     "data": {
      "text/html": [
       "<div>\n",
       "<style scoped>\n",
       "    .dataframe tbody tr th:only-of-type {\n",
       "        vertical-align: middle;\n",
       "    }\n",
       "\n",
       "    .dataframe tbody tr th {\n",
       "        vertical-align: top;\n",
       "    }\n",
       "\n",
       "    .dataframe thead th {\n",
       "        text-align: right;\n",
       "    }\n",
       "</style>\n",
       "<table border=\"1\" class=\"dataframe\">\n",
       "  <thead>\n",
       "    <tr style=\"text-align: right;\">\n",
       "      <th></th>\n",
       "      <th>Team</th>\n",
       "      <th>Season</th>\n",
       "      <th>G</th>\n",
       "      <th>GA</th>\n",
       "      <th>prev_g</th>\n",
       "      <th>prev_ga</th>\n",
       "      <th>prev_xg</th>\n",
       "      <th>prev_xga</th>\n",
       "    </tr>\n",
       "  </thead>\n",
       "  <tbody>\n",
       "    <tr>\n",
       "      <th>0</th>\n",
       "      <td>Liverpool</td>\n",
       "      <td>2020</td>\n",
       "      <td>84.216216</td>\n",
       "      <td>32.864865</td>\n",
       "      <td>89.0</td>\n",
       "      <td>22.0</td>\n",
       "      <td>79.46</td>\n",
       "      <td>29.15</td>\n",
       "    </tr>\n",
       "    <tr>\n",
       "      <th>1</th>\n",
       "      <td>Manchester City</td>\n",
       "      <td>2020</td>\n",
       "      <td>99.621622</td>\n",
       "      <td>35.945946</td>\n",
       "      <td>95.0</td>\n",
       "      <td>23.0</td>\n",
       "      <td>93.72</td>\n",
       "      <td>25.73</td>\n",
       "    </tr>\n",
       "    <tr>\n",
       "      <th>2</th>\n",
       "      <td>Manchester United</td>\n",
       "      <td>2020</td>\n",
       "      <td>65.729730</td>\n",
       "      <td>36.972973</td>\n",
       "      <td>65.0</td>\n",
       "      <td>54.0</td>\n",
       "      <td>68.62</td>\n",
       "      <td>52.30</td>\n",
       "    </tr>\n",
       "    <tr>\n",
       "      <th>3</th>\n",
       "      <td>Chelsea</td>\n",
       "      <td>2020</td>\n",
       "      <td>68.810811</td>\n",
       "      <td>55.459459</td>\n",
       "      <td>63.0</td>\n",
       "      <td>39.0</td>\n",
       "      <td>63.97</td>\n",
       "      <td>38.11</td>\n",
       "    </tr>\n",
       "    <tr>\n",
       "      <th>4</th>\n",
       "      <td>Leicester</td>\n",
       "      <td>2020</td>\n",
       "      <td>68.810811</td>\n",
       "      <td>40.054054</td>\n",
       "      <td>51.0</td>\n",
       "      <td>48.0</td>\n",
       "      <td>52.11</td>\n",
       "      <td>44.64</td>\n",
       "    </tr>\n",
       "  </tbody>\n",
       "</table>\n",
       "</div>"
      ],
      "text/plain": [
       "                Team  Season          G         GA  prev_g  prev_ga  prev_xg  \\\n",
       "0          Liverpool    2020  84.216216  32.864865    89.0     22.0    79.46   \n",
       "1    Manchester City    2020  99.621622  35.945946    95.0     23.0    93.72   \n",
       "2  Manchester United    2020  65.729730  36.972973    65.0     54.0    68.62   \n",
       "3            Chelsea    2020  68.810811  55.459459    63.0     39.0    63.97   \n",
       "4          Leicester    2020  68.810811  40.054054    51.0     48.0    52.11   \n",
       "\n",
       "   prev_xga  \n",
       "0     29.15  \n",
       "1     25.73  \n",
       "2     52.30  \n",
       "3     38.11  \n",
       "4     44.64  "
      ]
     },
     "execution_count": 25,
     "metadata": {},
     "output_type": "execute_result"
    }
   ],
   "source": [
    "combined = psql.sqldf(\"\"\"\n",
    "select cur.team, cur.season, cur.G, cur.GA, prev.G as prev_g, prev.GA as prev_ga, prev.XG as prev_xg, prev.XGA as prev_xga\n",
    "from df as cur, df as prev\n",
    "where cur.team = prev.team\n",
    "and cur.season = prev.season + 1\n",
    "\"\"\", locals())\n",
    "combined.head()"
   ]
  },
  {
   "cell_type": "code",
   "execution_count": 26,
   "metadata": {},
   "outputs": [
    {
     "name": "stdout",
     "output_type": "stream",
     "text": [
      "Goals R^2: 0.6067729074968935\n",
      "Expected Goals R^2: 0.6322451358342138\n",
      "Goals Against R^2: 0.370401381662048\n",
      "Expected Goals Against R^2: 0.4016001705432335\n"
     ]
    }
   ],
   "source": [
    "X = combined[['prev_g']]\n",
    "y = combined['G']\n",
    "g_reg = LinearRegression().fit(X, y)\n",
    "print(f\"Goals R^2: {g_reg.score(X, y)}\")\n",
    "X = combined[['prev_xg']]\n",
    "g_reg = LinearRegression().fit(X, y)\n",
    "print(f\"Expected Goals R^2: {g_reg.score(X, y)}\")\n",
    "\n",
    "X = combined[['prev_ga']]\n",
    "y = combined['GA']\n",
    "g_reg = LinearRegression().fit(X, y)\n",
    "print(f\"Goals Against R^2: {g_reg.score(X, y)}\")\n",
    "X = combined[['prev_xga']]\n",
    "g_reg = LinearRegression().fit(X, y)\n",
    "print(f\"Expected Goals Against R^2: {g_reg.score(X, y)}\")"
   ]
  }
 ],
 "metadata": {
  "kernelspec": {
   "display_name": "Python 3",
   "language": "python",
   "name": "python3"
  },
  "language_info": {
   "codemirror_mode": {
    "name": "ipython",
    "version": 3
   },
   "file_extension": ".py",
   "mimetype": "text/x-python",
   "name": "python",
   "nbconvert_exporter": "python",
   "pygments_lexer": "ipython3",
   "version": "3.7.7"
  }
 },
 "nbformat": 4,
 "nbformat_minor": 4
}
